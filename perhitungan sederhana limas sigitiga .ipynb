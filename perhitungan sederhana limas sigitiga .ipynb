{
 "cells": [
  {
   "cell_type": "code",
   "execution_count": 1,
   "metadata": {},
   "outputs": [],
   "source": [
    "#Nama : Fattra Ramadhan\n",
    "#NIM  : 5200611029\n",
    "# Algoritma and Programing kelas A"
   ]
  },
  {
   "cell_type": "code",
   "execution_count": 2,
   "metadata": {},
   "outputs": [],
   "source": [
    "#Contoh perhitungan limas segitiga \n",
    "#Mencari luas alas, luas permukaan, dan volume tabung\n",
    "#Rumus luas alas = 1/2*lebar*panjang\n",
    "#Rumus luas permukaan = (1/2*lebar*panjang)+(3/2*panjang*tinggi miring)\n",
    "#Rumus volume limas = 1/6*lebar*panjang*tinggi"
   ]
  },
  {
   "cell_type": "code",
   "execution_count": 3,
   "metadata": {},
   "outputs": [
    {
     "name": "stdout",
     "output_type": "stream",
     "text": [
      "masukkan lebar: 3\n",
      "masukkan panjang: 6\n",
      "masukkan tinggi: 10\n",
      "masukkan tinggi_miring: 12\n"
     ]
    }
   ],
   "source": [
    "#Meminta input dari data yang diketahui\n",
    "lebar = int(input(\"masukkan lebar: \"))\n",
    "panjang = int(input(\"masukkan panjang: \"))\n",
    "tinggi = int(input(\"masukkan tinggi: \"))\n",
    "tinggi_miring = int(input(\"masukkan tinggi_miring: \"))"
   ]
  },
  {
   "cell_type": "code",
   "execution_count": 4,
   "metadata": {},
   "outputs": [
    {
     "data": {
      "text/plain": [
       "9.0"
      ]
     },
     "execution_count": 4,
     "metadata": {},
     "output_type": "execute_result"
    }
   ],
   "source": [
    "#Menghitung luas alas dengan rumus\n",
    "luas_alas = 1/2*float(lebar)*float(panjang)\n",
    "luas_alas"
   ]
  },
  {
   "cell_type": "code",
   "execution_count": 5,
   "metadata": {},
   "outputs": [
    {
     "data": {
      "text/plain": [
       "117.0"
      ]
     },
     "execution_count": 5,
     "metadata": {},
     "output_type": "execute_result"
    }
   ],
   "source": [
    "#Menghitung luas permukaan dengan rumus\n",
    "luas_permukaan = (1/2*float(lebar)*float(panjang))+(3/2*float(panjang)*float(tinggi_miring))\n",
    "luas_permukaan"
   ]
  },
  {
   "cell_type": "code",
   "execution_count": 6,
   "metadata": {},
   "outputs": [
    {
     "data": {
      "text/plain": [
       "30.0"
      ]
     },
     "execution_count": 6,
     "metadata": {},
     "output_type": "execute_result"
    }
   ],
   "source": [
    "#Menghitung volume dengan rumus\n",
    "volume = 1/6*float(lebar)*float(panjang)*float(tinggi)\n",
    "volume"
   ]
  }
 ],
 "metadata": {
  "kernelspec": {
   "display_name": "Python 3",
   "language": "python",
   "name": "python3"
  },
  "language_info": {
   "codemirror_mode": {
    "name": "ipython",
    "version": 3
   },
   "file_extension": ".py",
   "mimetype": "text/x-python",
   "name": "python",
   "nbconvert_exporter": "python",
   "pygments_lexer": "ipython3",
   "version": "3.7.6"
  }
 },
 "nbformat": 4,
 "nbformat_minor": 4
}
